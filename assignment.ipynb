{
  "nbformat": 4,
  "nbformat_minor": 0,
  "metadata": {
    "colab": {
      "provenance": []
    },
    "kernelspec": {
      "name": "python3",
      "display_name": "Python 3"
    },
    "language_info": {
      "name": "python"
    }
  },
  "cells": [
    {
      "cell_type": "code",
      "execution_count": 87,
      "metadata": {
        "id": "xmyATrMKr0OB",
        "colab": {
          "base_uri": "https://localhost:8080/"
        },
        "outputId": "ac002bc7-13db-4728-bedb-fca3647a3f2a"
      },
      "outputs": [
        {
          "output_type": "stream",
          "name": "stdout",
          "text": [
            "Encoded (Binary): 01111000011010100110100001110111011010100111100100100101011100100110101001111000011110000110011001101100011010100111000001110010011010010110111001100011011001010110100101101101\n",
            "Decoded: secret message\n"
          ]
        }
      ],
      "source": [
        "class PersonalCipher:\n",
        "    def __init__(self):\n",
        "        self.letter_shift = 5  # Shift for letters\n",
        "        self.digit_shift_odd = 12  # Shift for odd digits\n",
        "        self.digit_shift_even = 11  # Shift for even digits\n",
        "        self.special_char_shift = 5  # Shift for special characters\n",
        "\n",
        "    def encode(self, input_string):\n",
        "        \"\"\"\n",
        "        Encodes the input string into binary:\n",
        "        - Letters are shifted by 5.\n",
        "        - Digits are modified based on odd/even logic.\n",
        "        - Special characters are shifted by 5 in their ASCII value.\n",
        "        - A special signature ('princeim') is appended at the end.\n",
        "        \"\"\"\n",
        "        binary_string = []  # To store binary representations\n",
        "\n",
        "        for char in input_string:\n",
        "            if char.isalpha():  # Handle alphabetic characters (letters)\n",
        "                if char.islower():\n",
        "                    encoded_char = chr(((ord(char) - ord('a') + self.letter_shift) % 26) + ord('a'))\n",
        "                else:\n",
        "                    encoded_char = chr(((ord(char) - ord('A') + self.letter_shift) % 26) + ord('A'))\n",
        "                binary_string.append(format(ord(encoded_char), '08b'))  # Convert to 8-bit binary\n",
        "            elif char.isdigit():  # Handle digits (0-9)\n",
        "                digit = int(char)\n",
        "                if digit % 2 == 0:  # Even digit\n",
        "                    encoded_digit = chr(ord(char) + self.digit_shift_even)\n",
        "                else:  # Odd digit\n",
        "                    encoded_digit = chr(ord(char) + self.digit_shift_odd)\n",
        "                binary_string.append(format(ord(encoded_digit), '08b'))  # Convert to 8-bit binary\n",
        "            else:  # Handle special characters\n",
        "                encoded_char = chr(ord(char) + self.special_char_shift)\n",
        "                binary_string.append(format(ord(encoded_char), '08b'))  # Convert to 8-bit binary\n",
        "\n",
        "        # Append the signature 'princeim' at the end\n",
        "        signature = 'princeim'\n",
        "        for char in signature:\n",
        "            binary_string.append(format(ord(char), '08b'))\n",
        "\n",
        "        return ''.join(binary_string)\n",
        "\n",
        "    def decode(self, binary_string):\n",
        "        \"\"\"\n",
        "        Decodes the binary string back to the original text:\n",
        "        - Reverse transformations for letters, digits, and special characters.\n",
        "        - Signature ('princeim') is removed from the end of the binary string.\n",
        "        \"\"\"\n",
        "        decoded_string = []  # To store decoded characters\n",
        "        binary_string = binary_string[:-8 * len('princeim')]  # Remove the signature from the end\n",
        "\n",
        "        for i in range(0, len(binary_string), 8):  # Process 8 bits at a time\n",
        "            binary_chunk = binary_string[i:i + 8]\n",
        "            ascii_code = int(binary_chunk, 2)  # Convert binary back to ASCII\n",
        "\n",
        "            if 48 + self.digit_shift_even <= ascii_code <= 57 + self.digit_shift_even:  # Even digit range\n",
        "                decoded_digit = chr(ascii_code - self.digit_shift_even)\n",
        "                decoded_string.append(decoded_digit)\n",
        "            elif 48 + self.digit_shift_odd <= ascii_code <= 57 + self.digit_shift_odd:  # Odd digit range\n",
        "                decoded_digit = chr(ascii_code - self.digit_shift_odd)\n",
        "                decoded_string.append(decoded_digit)\n",
        "            elif (65 <= ascii_code <= 90) or (97 <= ascii_code <= 122):  # Handle alphabetic characters\n",
        "                base = ord('a') if chr(ascii_code).islower() else ord('A')\n",
        "                decoded_char = chr((ascii_code - base - self.letter_shift) % 26 + base)\n",
        "                decoded_string.append(decoded_char)\n",
        "            else:  # Handle special characters\n",
        "                decoded_char = chr(ascii_code - self.special_char_shift)\n",
        "                decoded_string.append(decoded_char)\n",
        "\n",
        "        return ''.join(decoded_string)\n",
        "\n",
        "\n",
        "# Example usage\n",
        "my_cipher = PersonalCipher()\n",
        "encoded = my_cipher.encode(\"secret message\")\n",
        "decoded = my_cipher.decode(encoded)\n",
        "\n",
        "print(f\"Encoded (Binary): {encoded}\")\n",
        "print(f\"Decoded: {decoded}\")\n"
      ]
    },
    {
      "cell_type": "markdown",
      "source": [
        "**Explanation of the PersonalCipher Encoding and Decoding Process:**\n",
        "\n",
        "**Encoding:** *italicized text*\n",
        "\n",
        "The encode method transforms each character of the input string into an 8-bit binary format.\n",
        "Letters: Each letter is shifted by 5 positions in the alphabet (either forward or backward, depending on whether it's uppercase or lowercase).\n",
        "Digits: Even digits are shifted by 11, and odd digits by 12.\n",
        "Special Characters: These are shifted by 5 based on their ASCII values.\n",
        "After encoding the input string, the signature \"princeim\" is appended to the binary string to mark the encoding as unique.\n",
        "\n",
        "***Decoding:***\n",
        "\n",
        "The decode method reverses the encoding process:\n",
        "It removes the \"princeim\" signature from the end of the binary string.\n",
        "It then decodes the binary back into ASCII characters, reversing the shifts for letters, digits, and special characters.\n",
        "The original message is returned.\n",
        "By encoding and decoding this way, the original string can be securely converted into a unique binary format and retrieved back correctly.\n",
        "\n"
      ],
      "metadata": {
        "id": "b8QmjLOzNYBY"
      }
    }
  ]
}